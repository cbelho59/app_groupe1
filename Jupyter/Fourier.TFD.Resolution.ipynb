{
 "cells": [
  {
   "cell_type": "markdown",
   "metadata": {},
   "source": [
    "## Introduction\n",
    "Ce notebook aborde la question de la *résolution* dans représentation du spectre d'un signal à l'aide de la TFD (Transformée de Fourier Discrète). Le terme de *résolution*, associé à celui de *pouvoir de résolution* et originellement utilisé en optique, désigne la capacité à distinguer deux raies dans le spectre. \n",
    "Le problème posé est le suivant : une composante sinusoïdale conduit à un pic dans le domaine de Fourier, lorsque deux composantes sont présentes, à quelle condition observe t-on deux pics ? \n",
    "\n",
    "Le modèle mathématique du signal observé (de durée finie) est $x(n)=w(n)s(n)$ avec $s(n)=a_0e^{i2\\pi \\nu_0 n +\\phi_0}+a_1e^{i2\\pi \\nu_1 n+\\phi_1}$. $\\nu_0$ et $\\nu_1$ sont les fréquences réduites des composantes, prenant leur valeurs dans $]-0.5,\\; 0.5]$. $w(n)$ est une fenêtre de durée finie, par exemple $w(n)=\\mathbf{1}_{n\\in[0,\\; N-1]}$. \n",
    "\n",
    "Une fois bien compris les principes, exercez-vous sur le signal mystère !!\n",
    "\n",
    "#### mots clefs : \n",
    "TFD, résolution, fenêtrage, durée d'observation\n",
    "\n",
    "#### prérequis\n",
    "* vidéo sur la TFD et la TFtd\n",
    "* notebook \"Changement de représentation\"\n",
    "* notebook \"Fourier.TFD.précision\"\n",
    "* avoir fait le td TFD, résolution est un plus."
   ]
  },
  {
   "cell_type": "markdown",
   "metadata": {},
   "source": [
    "## Résolution et durée observation (ou *d'analyse*)\n",
    "\n",
    "La résolution est un problème central en analyse spectrale et se retrouve dans de nombreux champs disciplinaires (signaux mécaniques, acoustiques, optiques, électroniques, radar...). Les battements obervés dans de nombreux signaux musicaux sont souvent produit par des composantes fréquentielles proches ($\\nu_0 \\approx \\nu_1$). La localisation de sources radar ou sonar dont les directions sont voisines est un problème équivalent. Ici nous allons aborder le sens à donner à $\\nu_0 \\approx \\nu_1$ en fonction de la durée $N$ du signal observé.\n",
    "\n",
    "### Observation de deux raies d'égale importance\n",
    "\n",
    "Vos commentaires sont à ajouter dans la cellule suivant le code.\n",
    "\n",
    "1. Générer le signal $x$ en complétant le code python ci-dessous, et afficher sa TFD en fonction de la fréquence réduite $\\nu$.\n",
    "2. Régler les paramètres d'axe pour zoomer sur les pics fréquentiels\n",
    "3. Diminuer $N$. Que se passe t-il pour $N=150$, $N=100$  ?\n",
    "4. Calculer la valeur limite de $N_L$ permettant de séparer les raies (on supposera que cette valeur correspond à des lobes principaux qui ne se recouvrent pas). A quelle durée en seconde cette valeur correspond-elle ?\n",
    "5. En utilisant la valeur de $N=150$, afficher le spectre avec cette fois un fenêtrage de Hann (**np.hanning**). Expliquer les observations. Que devient $N_L$ avec ce fenêtrage ?\n"
   ]
  },
  {
   "cell_type": "code",
   "execution_count": 4,
   "metadata": {},
   "outputs": [
    {
     "ename": "NameError",
     "evalue": "name 'x' is not defined",
     "output_type": "error",
     "traceback": [
      "\u001b[1;31m---------------------------------------------------------------------------\u001b[0m",
      "\u001b[1;31mNameError\u001b[0m                                 Traceback (most recent call last)",
      "\u001b[1;32m<ipython-input-4-57936fb62ece>\u001b[0m in \u001b[0;36m<module>\u001b[1;34m\u001b[0m\n\u001b[0;32m     29\u001b[0m \u001b[1;33m\u001b[0m\u001b[0m\n\u001b[0;32m     30\u001b[0m \u001b[1;33m\u001b[0m\u001b[0m\n\u001b[1;32m---> 31\u001b[1;33m \u001b[0mplt\u001b[0m\u001b[1;33m.\u001b[0m\u001b[0mplot\u001b[0m\u001b[1;33m(\u001b[0m\u001b[0mt\u001b[0m\u001b[1;33m,\u001b[0m\u001b[0mnp\u001b[0m\u001b[1;33m.\u001b[0m\u001b[0mreal\u001b[0m\u001b[1;33m(\u001b[0m\u001b[0mx\u001b[0m\u001b[1;33m)\u001b[0m\u001b[1;33m)\u001b[0m\u001b[1;33m\u001b[0m\u001b[1;33m\u001b[0m\u001b[0m\n\u001b[0m\u001b[0;32m     32\u001b[0m \u001b[0mplt\u001b[0m\u001b[1;33m.\u001b[0m\u001b[0mshow\u001b[0m\u001b[1;33m(\u001b[0m\u001b[1;33m)\u001b[0m\u001b[1;33m\u001b[0m\u001b[1;33m\u001b[0m\u001b[0m\n\u001b[0;32m     33\u001b[0m \u001b[1;33m\u001b[0m\u001b[0m\n",
      "\u001b[1;31mNameError\u001b[0m: name 'x' is not defined"
     ]
    }
   ],
   "source": [
    "%matplotlib inline\n",
    "import numpy as np\n",
    "from numpy.fft import *\n",
    "from numpy.random import *\n",
    "import matplotlib.pyplot as plt\n",
    "\n",
    "pi = np.pi # la variable pi est prédéfinie dans numpy\n",
    "i = 1j\n",
    "\n",
    "# génération du signal\n",
    "Fe = 1000. # fréquence d'échantillonnage\n",
    "f0 = 100. # en Hz\n",
    "f1 = 105. # en Hz\n",
    "a0 = 1.\n",
    "a1 = 1.\n",
    "phi0 = 2*pi*rand()\n",
    "phi1 = 2*pi*rand()\n",
    "\n",
    "# durée d'observation\n",
    "N = 1000\n",
    "\n",
    "# ici votre code \n",
    "nu0 = 440# a completer\n",
    "nu1 = 460#\n",
    "\n",
    "t = np.arange(N)/Fe \n",
    "\n",
    "#géneration du signal\n",
    "\n",
    "\n",
    "plt.plot(t,np.real(x))\n",
    "plt.show()\n",
    "\n",
    "# calcul et représentation du spectre\n",
    "Nfft = 2**16 # zero-padding généreux (si vous ne voyez pas de quoi on parle, cf. notebook \"Fourier.TFD.précision\")\n",
    "TFx = np.fft.fft(x,Nfft)# a completer, TFD de x\n",
    "\n",
    "# nu = # a completer\n",
    "\n",
    "# affichage\n",
    "\n",
    "plt.figure\n",
    "plt.plot(nu,20*np.log10(abs(TFx)))\n",
    "plt.title('|TFD| de x(n)')\n",
    "plt.ylabel('dB')\n",
    "plt.xlabel(r'$\\nu$') # r permet de \"rendre\" le texte en Latex\n",
    "plt.axis([0, 1, -100, 100])\n",
    "plt.grid()\n",
    "plt.show()"
   ]
  },
  {
   "cell_type": "markdown",
   "metadata": {},
   "source": [
    "------------------------------------------------------------\n",
    "\n",
    "### Vos commentaires ici :\n",
    "\n",
    "#### Observations\n",
    "#### Calculs\n",
    "\n",
    "------------------------------------------------------------"
   ]
  },
  {
   "cell_type": "markdown",
   "metadata": {},
   "source": [
    "## Observation d'une raie faible masquée par une raie forte\n",
    "\n",
    "Ici il s'agit du même modèle que précédemment mais avec $a_1 = 1/100$. Cela permet d'aborder les cas où les intensités des différentes composantes (ou signaux sources dans la vraie vie) sont différentes.\n",
    "\n",
    "Vos commentaires sont ajouter dans la cellule suivant le code.\n",
    "\n",
    "1. Générer les signaux et observer le spectre. Que constatez vous ?\n",
    "2. Diminuer la valeur de $f_1$. A partir de quelle fréquence $f_L$ ne peut-on plus distinguer la deuxième composante ?\n",
    "3. Pour $f_1=f_L$ appliquer un fenêtrage de Hann. Expliquer vos observations.\n"
   ]
  },
  {
   "cell_type": "code",
   "execution_count": null,
   "metadata": {},
   "outputs": [],
   "source": [
    "%matplotlib inline\n",
    "import numpy as np\n",
    "from numpy.fft import *\n",
    "from numpy.random import *\n",
    "import matplotlib.pyplot as plt\n",
    "\n",
    "pi = np.pi # la variable pi est prédéfinie dans numpy\n",
    "i = 1j\n",
    "\n",
    "# génération du signal\n",
    "Fe = 1000. # fréquence d'échantillonnage\n",
    "f0 = 100. # en Hz\n",
    "f1 = 110. # en Hz\n",
    "a0 = 1.\n",
    "a1 = 1./100\n",
    "phi0 = 2*pi*rand()\n",
    "phi1 = 2*pi*rand()\n",
    "\n",
    "# durée d'observation\n",
    "N = 1000\n",
    "\n",
    "# ici votre code (à copier/coller/modifier à partir de la précédente cellule)\n"
   ]
  },
  {
   "cell_type": "markdown",
   "metadata": {},
   "source": [
    "------------------------------------------------------------\n",
    "\n",
    "### Vos commentaires ici :\n",
    "\n",
    "#### Observations\n",
    "#### Calculs\n",
    "\n",
    "------------------------------------------------------------"
   ]
  },
  {
   "cell_type": "markdown",
   "metadata": {},
   "source": [
    "## Le signal mystère\n",
    "\n",
    "Voici un signal qui contient 4 composantes fréquentielles. A vous d'essayer de les retrouver !!\n",
    "\n",
    "Utilisez autant de cellules de code que nécessaire et trouver les composantes et commentez vos résultats !"
   ]
  },
  {
   "cell_type": "code",
   "execution_count": 9,
   "metadata": {},
   "outputs": [
    {
     "data": {
      "image/png": "[encoded data removed]",
      "text/plain": [
       "<Figure size 432x288 with 1 Axes>"
      ]
     },
     "metadata": {
      "needs_background": "light"
     },
     "output_type": "display_data"
    }
   ],
   "source": [
    "import sounddevice as sd\n",
    "import soundfile as sf\n",
    "\n",
    "#lecture du fichier piano.wav\n",
    "#le fichier doit se trouver dans le même répertoire que le notebook\n",
    "# a telecharger dans perso.enst.fr/bedavid/OASIS/Signaux/mystere.wav\n",
    "x, Fe = sf.read('mystere.wav')\n",
    "ff = np.fft.fft(x,len(x)*10^4)\n",
    "plt.plot(np.abs(ff))\n",
    "plt.show()"
   ]
  }
 ],
 "metadata": {
  "kernelspec": {
   "display_name": "Python 3",
   "language": "python",
   "name": "python3"
  },
  "language_info": {
   "codemirror_mode": {
    "name": "ipython",
    "version": 3
   },
   "file_extension": ".py",
   "mimetype": "text/x-python",
   "name": "python",
   "nbconvert_exporter": "python",
   "pygments_lexer": "ipython3",
   "version": "3.8.5"
  }
 },
 "nbformat": 4,
 "nbformat_minor": 1
}
