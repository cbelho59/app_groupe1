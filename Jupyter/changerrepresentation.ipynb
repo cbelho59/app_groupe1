{
 "cells": [
  {
   "cell_type": "markdown",
   "metadata": {},
   "source": [
    "## Introduction\n",
    "\n",
    "L'objectif de ce Notebook est de montrer l'intérêt de changer de représentation pour observer un signal. Dans le cas de signaux de dimension finie $N$, il s'agira de représenter le vecteur sur une autre base que la base canonique, notamment la base de Fourier.\n",
    "\n",
    "#### mots clefs\n",
    "Fourier, Changement de base, numpy array\n",
    "\n",
    "## Approximation d'un signal\n",
    "Le module `numpy` de python permet de définir des données de type `array` pour lesquelles les opérations courantes telles transposition et produit matriciel sont déjà codées. Essayer l'exemple suivant : \n"
   ]
  },
  {
   "cell_type": "code",
   "execution_count": null,
   "metadata": {
    "collapsed": false
   },
   "outputs": [],
   "source": [
    "import numpy as np\n",
    "\n",
    "A = np.array(((1, 2, 1j), (1, 2j, 3)))\n",
    "print(A,'\\n ---- \\n',A.T, '\\n ---- \\n', A.conj().T, '\\n ---- \\n', A.dot(A.conj().T), '\\n ----')\n",
    "print(A.dtype)\n",
    "print(A.shape)"
   ]
  },
  {
   "cell_type": "markdown",
   "metadata": {},
   "source": [
    "#### Exercice\n",
    "On considère la matrice $\\mathbf{A}=\\begin{bmatrix} \n",
    "1 & 1 & 0 & 0 \\\\\n",
    "1 & -1 & 0 & 0 \\\\\n",
    "0 & 0 & 1 & 1 \\\\\n",
    "0 & 0 & 1 & -1 \n",
    "\\end{bmatrix}$ et le vecteur $\\mathbf{x}=\\begin{bmatrix} \n",
    "1+\\epsilon_1  \\\\\n",
    "1  \\\\\n",
    "-1  \\\\\n",
    "-1-\\epsilon_2 \n",
    "\\end{bmatrix}$ avec $\\epsilon_1,\\,\\epsilon_2 \\ll 1$.\n",
    "1. Calculer le vecteur $\\mathbf{y}=\\mathbf{Ax}$.\n",
    "2. $1+\\epsilon_1,\\, 1,\\, -1,\\, -1-\\epsilon_2$ sont par définition les coefficients du vecteur $\\mathbf{x}$ dans la base canonique de $\\mathbb{C}^4$. Montrer qu'il existe une base $B=\\{\\mathbf{b_1},\\mathbf{b_2},\\mathbf{b_3},\\mathbf{b_4}\\}$ dans laquelle les coefficients du vecteur $\\mathbf{x}$ sont les $y_i$. Calculer la matrice $\\mathbf{B}=[\\mathbf{b_1}\\,\\mathbf{b_2}\\,\\mathbf{b_3},\\mathbf{b_4}]$.\n",
    "3. Proposer une approximation *parcimonieuse* de $\\mathbf{x}$, notée $\\mathbf{P_x}$ qui sera définie par deux coefficients non nuls seulement dans la base $B$. Construire une fonction python `approx` qui renvoie $\\mathbf{P_x}$ et prend $(\\epsilon_1,\\,\\epsilon_2)$ en entrée."
   ]
  },
  {
   "cell_type": "code",
   "execution_count": null,
   "metadata": {
    "collapsed": false
   },
   "outputs": [],
   "source": []
  },
  {
   "cell_type": "markdown",
   "metadata": {},
   "source": [
    "   ## Base de Fourier dicrète\n",
    "   La base de Fourier Discrète sur N points est une base d’ondes pures ou encore sinusoïdes complexes de la forme : $$\\mathbf{e}_k(n) = \\dfrac{1}{N} \\exp(i2\\pi\\frac{k}{N}n),\\: k=0,1,\\ldots,N-1.$$\n",
    "   La décomposition sur cette base d'un signal fini $\\mathbf{x}$ donne sa *Transformée de Fourier Discrète*, notée $\\mathbf{X}$.\n",
    "\n",
    "#### Exercice\n",
    "1. Ecrire une fonction `fourier(k,N)` qui retourne le vecteur colonne `ek` de dimension $N$ pour un $k$ donné.\n",
    "2. Calculer la matrice $\\mathbf{E}=[\\mathbf{e}_0,\\, \\mathbf{e}_1,\\, \\ldots,\\, \\mathbf{e}_{N-1}]$. Afficher alors la valeur $\\mathbf{E}^H\\mathbf{E}$ et en déduire que la base est orthogonale.\n",
    "3. A l’aide du module `matplotlib` tracer le graphe de $\\mathrm{Re}(\\mathbf{e}_k(n))$ en fonction de $n$ pour quelques valeurs de k (typ. 0,1,2,3) et $N=64$. Quelle caractéristique commune partagent ces fonctions de $n$ ?\n",
    "4. Construire une fonction `tfd` qui renvoie dans un vecteur $\\mathbf{X}$ les coefficients du vecteur $\\mathbf{x}$ dans la base des $\\mathbf{e}_k$. Vérifier votre calcul sur un vecteur aléatoire (module `numpy.random`) de dimension $N=8$ à l'aide de la fonction `fft` du module `numpy.fft`. \n",
    "\n",
    "#### Application\n",
    "Construire le signal $x(n)=\\cos (2\\pi \\nu_0 n)+ b(n)$ où $b(n)$ est un bruit blanc gaussien de variance 1, pour $n=0,1,\\ldots,N-1$, $N=128$, $\\nu_0 = 10/N$. Afficher sur deux graphes disctincts :\n",
    "* le signal $x(n)$ en fonction de $n$,\n",
    "* les valeurs $|X(k)|$ en fonction de $k$ et en décibels.\n",
    "\n",
    "Essayer ensuite avec $\\nu_0=0.1$. Pour quelle(s) valeur(s) de $k$, $X(k)$ atteint t-il un maximum global. A quelle valeur de fréquence réduite $\\nu$ cela correspond-il ? Commentez ces résultats en terme de précision de la représentation. "
   ]
  },
  {
   "cell_type": "code",
   "execution_count": null,
   "metadata": {
    "collapsed": false
   },
   "outputs": [],
   "source": []
  }
 ],
 "metadata": {
  "kernelspec": {
   "display_name": "Python 3",
   "language": "python",
   "name": "python3"
  },
  "language_info": {
   "codemirror_mode": {
    "name": "ipython",
    "version": 3
   },
   "file_extension": ".py",
   "mimetype": "text/x-python",
   "name": "python",
   "nbconvert_exporter": "python",
   "pygments_lexer": "ipython3",
   "version": "3.6.0"
  }
 },
 "nbformat": 4,
 "nbformat_minor": 0
}
