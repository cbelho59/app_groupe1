{
 "cells": [
  {
   "cell_type": "markdown",
   "metadata": {},
   "source": [
    "## Introduction\n",
    "Il existe de nombreux formats pour stocker les fichiers audio. Le format [wav](https://fr.wikipedia.org/wiki/WAVEform_audio_format) est en fait un conteneur qui comprend une en-tête de description suivie du signal audio lui-même. De nombreux formats de données sont possibles et le plus courant est un format sans perte (non compressé) tel que le format en entier 16 bits, [PCM](https://fr.wikipedia.org/wiki/Modulation_d%27impulsion_codée). L'objectif de ce notebook est d'être capable de lire un fichier .wav sous python et d'afficher la forme d'onde en fonction du temps. \n",
    "\n",
    "#### mots clefs : \n",
    "sounddevice, soundfile, échantillonnage\n",
    "\n",
    "## Packages python\n",
    "Nous allons utiliser les packages python \n",
    "* [sounddevice](https://pypi.python.org/pypi/sounddevice/) : pour jouer les signaux audio (numpy arrays) et enregistrer  \n",
    "* [soundfile](https://pypi.python.org/pypi/SoundFile/0.8.1) : pour lire/écrire des fichiers .wav\n",
    "\n",
    "## Read and play\n",
    "Après installation de ces packages, vous êtes en mesure de lire un premier signal audio et de le jouer, c'est-à-dire l'envoyer vers le convertisseur numérique analogique (CNA) qui équipe la carte son de l'ordinateur. "
   ]
  },
  {
   "cell_type": "code",
   "execution_count": null,
   "metadata": {},
   "outputs": [],
   "source": []
  },
  {
   "cell_type": "code",
   "execution_count": 6,
   "metadata": {},
   "outputs": [],
   "source": [
    "import sounddevice as sd\n",
    "import soundfile as sf\n",
    "\n",
    "#lecture du fichier piano.wav\n",
    "#le fichier doit se trouver dans le même répertoire que le notebook\n",
    "x, Fe = sf.read('piano.wav')\n",
    "\n",
    "sd.play(x,Fe)"
   ]
  },
  {
   "cell_type": "markdown",
   "metadata": {},
   "source": [
    "## Signal\n",
    "Le signal est enregistré dans l'ordinateur sous la forme d'une séquence finie de nombres, ici dans un `array` numpy `x`. Mathématiquement, ces signaux finis sont souvent notés sous forme de vecteurs de complexes, soit\n",
    "$$ \\mathbf{x}=[x(0) \\, x(1) \\, \\ldots \\, x(N-1)]^T $$\n",
    "où $ N $ est le nombre *d'échantillons*. Ce signal est un vecteur de $\\mathbb{C}^N$. \n",
    "\n",
    "## Affichage avec matplotlib\n",
    "Nous utiliserons le package d'affichage graphique `matplotlib`. Ses possibilités sont très grandes (légendes, subplot, titres, axes, animations, etc..) mais pour l'instant voici un exemple simple :"
   ]
  },
  {
   "cell_type": "code",
   "execution_count": 7,
   "metadata": {},
   "outputs": [
    {
     "data": {
      "image/png": "[encoded data removed]",
      "text/plain": [
       "<Figure size 432x288 with 1 Axes>"
      ]
     },
     "metadata": {
      "needs_background": "light"
     },
     "output_type": "display_data"
    }
   ],
   "source": [
    "%matplotlib inline\n",
    "import numpy as np\n",
    "import matplotlib.pyplot as plt\n",
    "\n",
    "pi = np.pi # la variable pi est prédéfinie dans numpy\n",
    "\n",
    "t = np.arange(10)\n",
    "x = t*pi\n",
    "\n",
    "plt.plot(t,x)\n",
    "plt.show()"
   ]
  },
  {
   "cell_type": "markdown",
   "metadata": {},
   "source": [
    "Un tutoriel se trouve [ici](http://matplotlib.org/users/pyplot_tutorial.html). \n",
    "## Affichage de la forme d'onde\n",
    "Le graphe des valeurs d'un signal 1D en fonction du temps s'appelle sa forme d'onde. Ici le signal considéré est échantillonné de manière régulière, ce qui signifie que ses valeurs sont prélevées tout les $T_e=F_e^{-1}$ secondes dans un signal à temps continu (analogique) $x_a(t)$. Soit $$x(n)=x_a(nT_e)$$\n",
    "C'est à vous de jouer dans la prochaine cellule de code : lire le fichier `piano.wav` et afficher la forme d'onde en fonction du temps. Renvoyer la valeur de la durée totale du fichier."
   ]
  },
  {
   "cell_type": "code",
   "execution_count": 21,
   "metadata": {},
   "outputs": [
    {
     "name": "stdout",
     "output_type": "stream",
     "text": [
      "44100\n",
      "[0.00000000e+00 2.26757370e-05 4.53514739e-05 ... 2.59993197e+00\n",
      " 2.59995465e+00 2.59997732e+00]\n"
     ]
    },
    {
     "data": {
      "image/png": "[encoded data removed]",
      "text/plain": [
       "<Figure size 432x288 with 1 Axes>"
      ]
     },
     "metadata": {
      "needs_background": "light"
     },
     "output_type": "display_data"
    }
   ],
   "source": [
    "import sounddevice as sd\n",
    "import soundfile as sf\n",
    "import numpy as np\n",
    "import matplotlib.pyplot as plt\n",
    "\n",
    "#lecture du fichier piano.wav\n",
    "#le fichier doit se trouver dans le même répertoire que le notebook\n",
    "x, Fe = sf.read('piano.wav')\n",
    "print(Fe)\n",
    "t = np.arange(0,len(x)/Fe,(1/Fe))\n",
    "print(t)\n",
    "plt.plot(t, x)\n",
    "plt.show()"
   ]
  },
  {
   "cell_type": "code",
   "execution_count": 19,
   "metadata": {},
   "outputs": [
    {
     "data": {
      "text/plain": [
       "114660"
      ]
     },
     "execution_count": 19,
     "metadata": {},
     "output_type": "execute_result"
    }
   ],
   "source": [
    "len(x)"
   ]
  },
  {
   "cell_type": "markdown",
   "metadata": {},
   "source": [
    "## Mélodie aléatoire \n",
    "\n",
    "1. Créer un vecteur x sinusoïdal à la fréquence de $f_0 = 440$ Hz (La du diapason) pour un échantillonnage de 8000 échantillons par secondes. Sa longueur sera d’une 0.5 seconde. Jouer le son obtenu par\n",
    "`sounddevice.play(x,Fe)`. On\tpourra\taméliorer\tle\trendu\ten\tmultipliant\tle\tvecteur\tpar\tune\tfenêtre\tde\tHann (fonction `numpy.hanning`)\n",
    "2. Tirer une variable aléatoire gaussienne `y` d’écart-type 3 à\n",
    "l’aide de la fonction `np.random.randn`. Soit `r`, l’arrondi de `y` à l’entier le plus proche\n",
    "(fonction `np.round`).\n",
    "3. Pour monter d'un demi-ton (passer de la à la#) il suffit de multiplier $f_0$ par\n",
    "$\\alpha = 12\\sqrt{2}$. A l’aide d’une boucle `for` et de la concaténation (`np.concatenate`) créer une mélodie aléatoire de notes d’une 0.5 secondes dont l’intervalle (écart en demi-tons) avec la note précédente est `r`.\n",
    "4. Améliorations possibles : tirer une valeur rythmique aléatoire (fonction `np.random.randint`) entre 1 et 4 où 1 correspond à la blanche (durée 1s) et 4 à la\n",
    "double-croche (1/24 s) et/ou introduire de la distorsion (avant fenêtrage)\n",
    "sous la forme $x \\leftarrow x - 0.5 x^3 +\t0.3x^5$."
   ]
  },
  {
   "cell_type": "code",
   "execution_count": 51,
   "metadata": {},
   "outputs": [
    {
     "name": "stdout",
     "output_type": "stream",
     "text": [
      "[0.00000e+00 1.25000e-04 2.50000e-04 ... 4.99625e-01 4.99750e-01\n",
      " 4.99875e-01]\n"
     ]
    },
    {
     "data": {
      "image/png": "[encoded data removed]",
      "text/plain": [
       "<Figure size 432x288 with 1 Axes>"
      ]
     },
     "metadata": {
      "needs_background": "light"
     },
     "output_type": "display_data"
    }
   ],
   "source": [
    "# votre code ici\n",
    "\n",
    "t = np.arange(0,0.5, 1/8000)\n",
    "x = np.sin(t*2*3.1415*440)*100\n",
    "print(t)\n",
    "plt.plot(t,x)\n",
    "plt.show()\n",
    "sd.play(x,8000)"
   ]
  }
 ],
 "metadata": {
  "kernelspec": {
   "display_name": "Python 3",
   "language": "python",
   "name": "python3"
  },
  "language_info": {
   "codemirror_mode": {
    "name": "ipython",
    "version": 3
   },
   "file_extension": ".py",
   "mimetype": "text/x-python",
   "name": "python",
   "nbconvert_exporter": "python",
   "pygments_lexer": "ipython3",
   "version": "3.8.5"
  }
 },
 "nbformat": 4,
 "nbformat_minor": 1
}
